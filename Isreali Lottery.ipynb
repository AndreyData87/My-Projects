{
 "cells": [
  {
   "cell_type": "code",
   "execution_count": 82,
   "metadata": {},
   "outputs": [],
   "source": [
    "import pandas as pd\n",
    "from pandas import Series,DataFrame\n",
    "import numpy as np\n",
    "import matplotlib.pyplot as plt\n",
    "import seaborn as sns\n",
    "sns.set_style('whitegrid')\n",
    "%matplotlib inline\n",
    "from sklearn.tree import DecisionTreeClassifier\n",
    "from collections import Counter"
   ]
  },
  {
   "cell_type": "markdown",
   "metadata": {},
   "source": [
    "* The purpose of the project is check the history of the lottery over 10 years.\n",
    "\n",
    "\n",
    "* Find the sequence of balls received the most .\n",
    "\n",
    "\n",
    "* Run randomly 1044 lotteries (as the number of lotteries in the database) and get statidtically the best ball sequence .\n",
    "\n",
    "\n",
    "* The data were take from a israeli lottery web site ('https://lottosheli.co.il/results/lotto').\n",
    "\n",
    "\n",
    "* The Israeli lottery consists of six balls(number 1-37) and another \"strong\" ball(numbers 1-7)."
   ]
  },
  {
   "cell_type": "code",
   "execution_count": 83,
   "metadata": {},
   "outputs": [],
   "source": [
    "lotto=pd.read_csv('lotto1.csv')"
   ]
  },
  {
   "cell_type": "code",
   "execution_count": 84,
   "metadata": {},
   "outputs": [
    {
     "data": {
      "text/html": [
       "<div>\n",
       "<style scoped>\n",
       "    .dataframe tbody tr th:only-of-type {\n",
       "        vertical-align: middle;\n",
       "    }\n",
       "\n",
       "    .dataframe tbody tr th {\n",
       "        vertical-align: top;\n",
       "    }\n",
       "\n",
       "    .dataframe thead th {\n",
       "        text-align: right;\n",
       "    }\n",
       "</style>\n",
       "<table border=\"1\" class=\"dataframe\">\n",
       "  <thead>\n",
       "    <tr style=\"text-align: right;\">\n",
       "      <th></th>\n",
       "      <th>one</th>\n",
       "      <th>two</th>\n",
       "      <th>three</th>\n",
       "      <th>four</th>\n",
       "      <th>five</th>\n",
       "      <th>six</th>\n",
       "      <th>strong</th>\n",
       "    </tr>\n",
       "  </thead>\n",
       "  <tbody>\n",
       "    <tr>\n",
       "      <th>0</th>\n",
       "      <td>6</td>\n",
       "      <td>14</td>\n",
       "      <td>17</td>\n",
       "      <td>22</td>\n",
       "      <td>24</td>\n",
       "      <td>33</td>\n",
       "      <td>1</td>\n",
       "    </tr>\n",
       "    <tr>\n",
       "      <th>1</th>\n",
       "      <td>1</td>\n",
       "      <td>9</td>\n",
       "      <td>17</td>\n",
       "      <td>22</td>\n",
       "      <td>33</td>\n",
       "      <td>36</td>\n",
       "      <td>1</td>\n",
       "    </tr>\n",
       "    <tr>\n",
       "      <th>2</th>\n",
       "      <td>2</td>\n",
       "      <td>9</td>\n",
       "      <td>11</td>\n",
       "      <td>13</td>\n",
       "      <td>35</td>\n",
       "      <td>37</td>\n",
       "      <td>2</td>\n",
       "    </tr>\n",
       "    <tr>\n",
       "      <th>3</th>\n",
       "      <td>12</td>\n",
       "      <td>24</td>\n",
       "      <td>25</td>\n",
       "      <td>28</td>\n",
       "      <td>34</td>\n",
       "      <td>37</td>\n",
       "      <td>3</td>\n",
       "    </tr>\n",
       "    <tr>\n",
       "      <th>4</th>\n",
       "      <td>5</td>\n",
       "      <td>12</td>\n",
       "      <td>14</td>\n",
       "      <td>16</td>\n",
       "      <td>17</td>\n",
       "      <td>24</td>\n",
       "      <td>2</td>\n",
       "    </tr>\n",
       "  </tbody>\n",
       "</table>\n",
       "</div>"
      ],
      "text/plain": [
       "   one  two  three  four  five  six  strong\n",
       "0    6   14     17    22    24   33       1\n",
       "1    1    9     17    22    33   36       1\n",
       "2    2    9     11    13    35   37       2\n",
       "3   12   24     25    28    34   37       3\n",
       "4    5   12     14    16    17   24       2"
      ]
     },
     "execution_count": 84,
     "metadata": {},
     "output_type": "execute_result"
    }
   ],
   "source": [
    "lotto.head()"
   ]
  },
  {
   "cell_type": "markdown",
   "metadata": {},
   "source": [
    "#### The number that appeared the most in each ball in the lottery in percent ."
   ]
  },
  {
   "cell_type": "code",
   "execution_count": 85,
   "metadata": {},
   "outputs": [
    {
     "name": "stdout",
     "output_type": "stream",
     "text": [
      "-------------------------------------one------------------------------------- - "
     ]
    },
    {
     "data": {
      "text/plain": [
       "1     0.176077\n",
       "2     0.130144\n",
       "3     0.119617\n",
       "4     0.096651\n",
       "5     0.088995\n",
       "6     0.073684\n",
       "7     0.062201\n",
       "8     0.048804\n",
       "9     0.036364\n",
       "11    0.034450\n",
       "12    0.027751\n",
       "10    0.026794\n",
       "13    0.017225\n",
       "15    0.012440\n",
       "14    0.011483\n",
       "17    0.008612\n",
       "16    0.007656\n",
       "18    0.006699\n",
       "20    0.006699\n",
       "19    0.003828\n",
       "22    0.001914\n",
       "23    0.000957\n",
       "24    0.000957\n",
       "Name: one, dtype: float64"
      ]
     },
     "metadata": {},
     "output_type": "display_data"
    },
    {
     "name": "stdout",
     "output_type": "stream",
     "text": [
      "-------------------------------------two------------------------------------- - "
     ]
    },
    {
     "data": {
      "text/plain": [
       "8     0.089952\n",
       "6     0.080383\n",
       "9     0.072727\n",
       "13    0.068900\n",
       "10    0.067943\n",
       "11    0.059330\n",
       "7     0.057416\n",
       "5     0.056459\n",
       "12    0.050718\n",
       "15    0.044976\n",
       "3     0.044019\n",
       "16    0.041148\n",
       "4     0.038278\n",
       "14    0.031579\n",
       "20    0.029665\n",
       "19    0.029665\n",
       "17    0.027751\n",
       "2     0.025837\n",
       "18    0.023923\n",
       "21    0.022967\n",
       "22    0.013397\n",
       "25    0.005742\n",
       "23    0.004785\n",
       "24    0.004785\n",
       "26    0.002871\n",
       "27    0.002871\n",
       "28    0.000957\n",
       "32    0.000957\n",
       "Name: two, dtype: float64"
      ]
     },
     "metadata": {},
     "output_type": "display_data"
    },
    {
     "name": "stdout",
     "output_type": "stream",
     "text": [
      "-------------------------------------three------------------------------------- - "
     ]
    },
    {
     "data": {
      "text/plain": [
       "11    0.063158\n",
       "12    0.060287\n",
       "14    0.060287\n",
       "17    0.059330\n",
       "15    0.057416\n",
       "10    0.056459\n",
       "18    0.055502\n",
       "21    0.050718\n",
       "16    0.048804\n",
       "13    0.047847\n",
       "22    0.046890\n",
       "19    0.044019\n",
       "20    0.042105\n",
       "9     0.036364\n",
       "25    0.034450\n",
       "26    0.028708\n",
       "23    0.027751\n",
       "7     0.024880\n",
       "8     0.023923\n",
       "24    0.023923\n",
       "27    0.020096\n",
       "28    0.017225\n",
       "6     0.016268\n",
       "5     0.015311\n",
       "29    0.011483\n",
       "4     0.007656\n",
       "3     0.006699\n",
       "30    0.006699\n",
       "31    0.001914\n",
       "32    0.001914\n",
       "33    0.000957\n",
       "34    0.000957\n",
       "Name: three, dtype: float64"
      ]
     },
     "metadata": {},
     "output_type": "display_data"
    },
    {
     "name": "stdout",
     "output_type": "stream",
     "text": [
      "-------------------------------------four------------------------------------- - "
     ]
    },
    {
     "data": {
      "text/plain": [
       "23    0.066986\n",
       "22    0.063158\n",
       "24    0.062201\n",
       "25    0.058373\n",
       "20    0.055502\n",
       "27    0.053589\n",
       "21    0.052632\n",
       "18    0.051675\n",
       "19    0.049761\n",
       "17    0.048804\n",
       "26    0.045933\n",
       "28    0.044019\n",
       "30    0.041148\n",
       "16    0.038278\n",
       "29    0.035407\n",
       "31    0.032536\n",
       "13    0.028708\n",
       "12    0.028708\n",
       "15    0.027751\n",
       "14    0.027751\n",
       "11    0.019139\n",
       "32    0.012440\n",
       "34    0.011483\n",
       "10    0.011483\n",
       "33    0.009569\n",
       "9     0.009569\n",
       "8     0.005742\n",
       "7     0.002871\n",
       "35    0.001914\n",
       "6     0.000957\n",
       "5     0.000957\n",
       "4     0.000957\n",
       "Name: four, dtype: float64"
      ]
     },
     "metadata": {},
     "output_type": "display_data"
    },
    {
     "name": "stdout",
     "output_type": "stream",
     "text": [
      "-------------------------------------five------------------------------------- - "
     ]
    },
    {
     "data": {
      "text/plain": [
       "32    0.072727\n",
       "26    0.072727\n",
       "28    0.071770\n",
       "29    0.069856\n",
       "25    0.066029\n",
       "30    0.065072\n",
       "27    0.065072\n",
       "31    0.055502\n",
       "34    0.053589\n",
       "33    0.053589\n",
       "35    0.048804\n",
       "24    0.047847\n",
       "23    0.045933\n",
       "22    0.033493\n",
       "20    0.032536\n",
       "21    0.030622\n",
       "36    0.022967\n",
       "18    0.019139\n",
       "19    0.018182\n",
       "17    0.016268\n",
       "16    0.013397\n",
       "15    0.008612\n",
       "12    0.005742\n",
       "14    0.003828\n",
       "13    0.001914\n",
       "11    0.001914\n",
       "10    0.000957\n",
       "9     0.000957\n",
       "7     0.000957\n",
       "Name: five, dtype: float64"
      ]
     },
     "metadata": {},
     "output_type": "display_data"
    },
    {
     "name": "stdout",
     "output_type": "stream",
     "text": [
      "-------------------------------------six------------------------------------- - "
     ]
    },
    {
     "data": {
      "text/plain": [
       "37    0.172249\n",
       "36    0.132057\n",
       "35    0.115789\n",
       "34    0.095694\n",
       "33    0.094737\n",
       "32    0.064115\n",
       "29    0.062201\n",
       "31    0.056459\n",
       "30    0.048804\n",
       "28    0.035407\n",
       "26    0.029665\n",
       "27    0.022967\n",
       "25    0.021053\n",
       "22    0.012440\n",
       "24    0.007656\n",
       "23    0.007656\n",
       "21    0.006699\n",
       "20    0.003828\n",
       "18    0.002871\n",
       "17    0.002871\n",
       "16    0.001914\n",
       "19    0.000957\n",
       "15    0.000957\n",
       "13    0.000957\n",
       "Name: six, dtype: float64"
      ]
     },
     "metadata": {},
     "output_type": "display_data"
    },
    {
     "name": "stdout",
     "output_type": "stream",
     "text": [
      "-------------------------------------strong------------------------------------- - "
     ]
    },
    {
     "data": {
      "text/plain": [
       "3    0.159809\n",
       "6    0.154067\n",
       "5    0.142584\n",
       "1    0.140670\n",
       "2    0.139713\n",
       "4    0.132057\n",
       "7    0.131100\n",
       "Name: strong, dtype: float64"
      ]
     },
     "metadata": {},
     "output_type": "display_data"
    }
   ],
   "source": [
    "for col in lotto.columns:\n",
    "    print('-' * 37 + col + '-' * 37 , end=' - ')\n",
    "    display(lotto[col].value_counts(normalize=True).head(37))"
   ]
  },
  {
   "cell_type": "markdown",
   "metadata": {},
   "source": [
    "#### The number that appeared the most in each ball in the lottery in quantity ."
   ]
  },
  {
   "cell_type": "code",
   "execution_count": 86,
   "metadata": {},
   "outputs": [
    {
     "name": "stdout",
     "output_type": "stream",
     "text": [
      "----------------------------------------one---------------------------------------- - "
     ]
    },
    {
     "data": {
      "text/plain": [
       "1     184\n",
       "2     136\n",
       "3     125\n",
       "4     101\n",
       "5      93\n",
       "6      77\n",
       "7      65\n",
       "8      51\n",
       "9      38\n",
       "11     36\n",
       "12     29\n",
       "10     28\n",
       "13     18\n",
       "15     13\n",
       "14     12\n",
       "17      9\n",
       "16      8\n",
       "18      7\n",
       "20      7\n",
       "19      4\n",
       "22      2\n",
       "23      1\n",
       "24      1\n",
       "Name: one, dtype: int64"
      ]
     },
     "metadata": {},
     "output_type": "display_data"
    },
    {
     "name": "stdout",
     "output_type": "stream",
     "text": [
      "----------------------------------------two---------------------------------------- - "
     ]
    },
    {
     "data": {
      "text/plain": [
       "8     94\n",
       "6     84\n",
       "9     76\n",
       "13    72\n",
       "10    71\n",
       "11    62\n",
       "7     60\n",
       "5     59\n",
       "12    53\n",
       "15    47\n",
       "3     46\n",
       "16    43\n",
       "4     40\n",
       "14    33\n",
       "20    31\n",
       "19    31\n",
       "17    29\n",
       "2     27\n",
       "18    25\n",
       "21    24\n",
       "22    14\n",
       "25     6\n",
       "23     5\n",
       "24     5\n",
       "26     3\n",
       "27     3\n",
       "28     1\n",
       "32     1\n",
       "Name: two, dtype: int64"
      ]
     },
     "metadata": {},
     "output_type": "display_data"
    },
    {
     "name": "stdout",
     "output_type": "stream",
     "text": [
      "----------------------------------------three---------------------------------------- - "
     ]
    },
    {
     "data": {
      "text/plain": [
       "11    66\n",
       "12    63\n",
       "14    63\n",
       "17    62\n",
       "15    60\n",
       "10    59\n",
       "18    58\n",
       "21    53\n",
       "16    51\n",
       "13    50\n",
       "22    49\n",
       "19    46\n",
       "20    44\n",
       "9     38\n",
       "25    36\n",
       "26    30\n",
       "23    29\n",
       "7     26\n",
       "8     25\n",
       "24    25\n",
       "27    21\n",
       "28    18\n",
       "6     17\n",
       "5     16\n",
       "29    12\n",
       "4      8\n",
       "3      7\n",
       "30     7\n",
       "31     2\n",
       "32     2\n",
       "33     1\n",
       "34     1\n",
       "Name: three, dtype: int64"
      ]
     },
     "metadata": {},
     "output_type": "display_data"
    },
    {
     "name": "stdout",
     "output_type": "stream",
     "text": [
      "----------------------------------------four---------------------------------------- - "
     ]
    },
    {
     "data": {
      "text/plain": [
       "23    70\n",
       "22    66\n",
       "24    65\n",
       "25    61\n",
       "20    58\n",
       "27    56\n",
       "21    55\n",
       "18    54\n",
       "19    52\n",
       "17    51\n",
       "26    48\n",
       "28    46\n",
       "30    43\n",
       "16    40\n",
       "29    37\n",
       "31    34\n",
       "13    30\n",
       "12    30\n",
       "15    29\n",
       "14    29\n",
       "11    20\n",
       "32    13\n",
       "34    12\n",
       "10    12\n",
       "33    10\n",
       "9     10\n",
       "8      6\n",
       "7      3\n",
       "35     2\n",
       "6      1\n",
       "5      1\n",
       "4      1\n",
       "Name: four, dtype: int64"
      ]
     },
     "metadata": {},
     "output_type": "display_data"
    },
    {
     "name": "stdout",
     "output_type": "stream",
     "text": [
      "----------------------------------------five---------------------------------------- - "
     ]
    },
    {
     "data": {
      "text/plain": [
       "32    76\n",
       "26    76\n",
       "28    75\n",
       "29    73\n",
       "25    69\n",
       "30    68\n",
       "27    68\n",
       "31    58\n",
       "34    56\n",
       "33    56\n",
       "35    51\n",
       "24    50\n",
       "23    48\n",
       "22    35\n",
       "20    34\n",
       "21    32\n",
       "36    24\n",
       "18    20\n",
       "19    19\n",
       "17    17\n",
       "16    14\n",
       "15     9\n",
       "12     6\n",
       "14     4\n",
       "13     2\n",
       "11     2\n",
       "10     1\n",
       "9      1\n",
       "7      1\n",
       "Name: five, dtype: int64"
      ]
     },
     "metadata": {},
     "output_type": "display_data"
    },
    {
     "name": "stdout",
     "output_type": "stream",
     "text": [
      "----------------------------------------six---------------------------------------- - "
     ]
    },
    {
     "data": {
      "text/plain": [
       "37    180\n",
       "36    138\n",
       "35    121\n",
       "34    100\n",
       "33     99\n",
       "32     67\n",
       "29     65\n",
       "31     59\n",
       "30     51\n",
       "28     37\n",
       "26     31\n",
       "27     24\n",
       "25     22\n",
       "22     13\n",
       "24      8\n",
       "23      8\n",
       "21      7\n",
       "20      4\n",
       "18      3\n",
       "17      3\n",
       "16      2\n",
       "19      1\n",
       "15      1\n",
       "13      1\n",
       "Name: six, dtype: int64"
      ]
     },
     "metadata": {},
     "output_type": "display_data"
    },
    {
     "name": "stdout",
     "output_type": "stream",
     "text": [
      "----------------------------------------strong---------------------------------------- - "
     ]
    },
    {
     "data": {
      "text/plain": [
       "3    167\n",
       "6    161\n",
       "5    149\n",
       "1    147\n",
       "2    146\n",
       "4    138\n",
       "7    137\n",
       "Name: strong, dtype: int64"
      ]
     },
     "metadata": {},
     "output_type": "display_data"
    }
   ],
   "source": [
    "for col in lotto.columns:\n",
    "    print('-' * 40 + col + '-' * 40 , end=' - ')\n",
    "    display(lotto[col].value_counts().head(40))"
   ]
  },
  {
   "cell_type": "markdown",
   "metadata": {},
   "source": [
    "#### The unique numbers that came out in each ball in the lottery ."
   ]
  },
  {
   "cell_type": "code",
   "execution_count": 21,
   "metadata": {},
   "outputs": [
    {
     "name": "stdout",
     "output_type": "stream",
     "text": [
      "No.of.unique values in each column :\n",
      " one       23\n",
      "two       28\n",
      "three     32\n",
      "four      32\n",
      "five      29\n",
      "six       24\n",
      "strong     7\n",
      "dtype: int64\n"
     ]
    }
   ],
   "source": [
    "n = lotto.nunique(axis=0)\n",
    "\n",
    "print(\"No.of.unique values in each column :\\n\", \n",
    "      n)"
   ]
  },
  {
   "cell_type": "code",
   "execution_count": 25,
   "metadata": {},
   "outputs": [
    {
     "data": {
      "text/html": [
       "<div>\n",
       "<style scoped>\n",
       "    .dataframe tbody tr th:only-of-type {\n",
       "        vertical-align: middle;\n",
       "    }\n",
       "\n",
       "    .dataframe tbody tr th {\n",
       "        vertical-align: top;\n",
       "    }\n",
       "\n",
       "    .dataframe thead th {\n",
       "        text-align: right;\n",
       "    }\n",
       "</style>\n",
       "<table border=\"1\" class=\"dataframe\">\n",
       "  <thead>\n",
       "    <tr style=\"text-align: right;\">\n",
       "      <th></th>\n",
       "      <th>one</th>\n",
       "      <th>two</th>\n",
       "      <th>three</th>\n",
       "      <th>four</th>\n",
       "      <th>five</th>\n",
       "      <th>six</th>\n",
       "      <th>strong</th>\n",
       "    </tr>\n",
       "  </thead>\n",
       "  <tbody>\n",
       "    <tr>\n",
       "      <th>0</th>\n",
       "      <td>6</td>\n",
       "      <td>14</td>\n",
       "      <td>17</td>\n",
       "      <td>22</td>\n",
       "      <td>24</td>\n",
       "      <td>33</td>\n",
       "      <td>1</td>\n",
       "    </tr>\n",
       "    <tr>\n",
       "      <th>1</th>\n",
       "      <td>1</td>\n",
       "      <td>9</td>\n",
       "      <td>17</td>\n",
       "      <td>22</td>\n",
       "      <td>33</td>\n",
       "      <td>36</td>\n",
       "      <td>1</td>\n",
       "    </tr>\n",
       "    <tr>\n",
       "      <th>2</th>\n",
       "      <td>2</td>\n",
       "      <td>9</td>\n",
       "      <td>11</td>\n",
       "      <td>13</td>\n",
       "      <td>35</td>\n",
       "      <td>37</td>\n",
       "      <td>2</td>\n",
       "    </tr>\n",
       "    <tr>\n",
       "      <th>3</th>\n",
       "      <td>12</td>\n",
       "      <td>24</td>\n",
       "      <td>25</td>\n",
       "      <td>28</td>\n",
       "      <td>34</td>\n",
       "      <td>37</td>\n",
       "      <td>3</td>\n",
       "    </tr>\n",
       "    <tr>\n",
       "      <th>4</th>\n",
       "      <td>5</td>\n",
       "      <td>12</td>\n",
       "      <td>14</td>\n",
       "      <td>16</td>\n",
       "      <td>17</td>\n",
       "      <td>24</td>\n",
       "      <td>2</td>\n",
       "    </tr>\n",
       "    <tr>\n",
       "      <th>...</th>\n",
       "      <td>...</td>\n",
       "      <td>...</td>\n",
       "      <td>...</td>\n",
       "      <td>...</td>\n",
       "      <td>...</td>\n",
       "      <td>...</td>\n",
       "      <td>...</td>\n",
       "    </tr>\n",
       "    <tr>\n",
       "      <th>1040</th>\n",
       "      <td>7</td>\n",
       "      <td>11</td>\n",
       "      <td>17</td>\n",
       "      <td>21</td>\n",
       "      <td>23</td>\n",
       "      <td>37</td>\n",
       "      <td>2</td>\n",
       "    </tr>\n",
       "    <tr>\n",
       "      <th>1041</th>\n",
       "      <td>1</td>\n",
       "      <td>2</td>\n",
       "      <td>9</td>\n",
       "      <td>21</td>\n",
       "      <td>22</td>\n",
       "      <td>36</td>\n",
       "      <td>3</td>\n",
       "    </tr>\n",
       "    <tr>\n",
       "      <th>1042</th>\n",
       "      <td>3</td>\n",
       "      <td>11</td>\n",
       "      <td>15</td>\n",
       "      <td>17</td>\n",
       "      <td>22</td>\n",
       "      <td>23</td>\n",
       "      <td>1</td>\n",
       "    </tr>\n",
       "    <tr>\n",
       "      <th>1043</th>\n",
       "      <td>1</td>\n",
       "      <td>6</td>\n",
       "      <td>19</td>\n",
       "      <td>23</td>\n",
       "      <td>33</td>\n",
       "      <td>37</td>\n",
       "      <td>3</td>\n",
       "    </tr>\n",
       "    <tr>\n",
       "      <th>1044</th>\n",
       "      <td>4</td>\n",
       "      <td>11</td>\n",
       "      <td>17</td>\n",
       "      <td>24</td>\n",
       "      <td>25</td>\n",
       "      <td>30</td>\n",
       "      <td>3</td>\n",
       "    </tr>\n",
       "  </tbody>\n",
       "</table>\n",
       "<p>1045 rows × 7 columns</p>\n",
       "</div>"
      ],
      "text/plain": [
       "      one  two  three  four  five  six  strong\n",
       "0       6   14     17    22    24   33       1\n",
       "1       1    9     17    22    33   36       1\n",
       "2       2    9     11    13    35   37       2\n",
       "3      12   24     25    28    34   37       3\n",
       "4       5   12     14    16    17   24       2\n",
       "...   ...  ...    ...   ...   ...  ...     ...\n",
       "1040    7   11     17    21    23   37       2\n",
       "1041    1    2      9    21    22   36       3\n",
       "1042    3   11     15    17    22   23       1\n",
       "1043    1    6     19    23    33   37       3\n",
       "1044    4   11     17    24    25   30       3\n",
       "\n",
       "[1045 rows x 7 columns]"
      ]
     },
     "execution_count": 25,
     "metadata": {},
     "output_type": "execute_result"
    }
   ],
   "source": [
    "lotto"
   ]
  },
  {
   "cell_type": "code",
   "execution_count": 27,
   "metadata": {},
   "outputs": [
    {
     "data": {
      "image/png": "[encoded data removed]",
      "text/plain": [
       "<Figure size 432x288 with 1 Axes>"
      ]
     },
     "metadata": {
      "needs_background": "light"
     },
     "output_type": "display_data"
    }
   ],
   "source": [
    "keys = []\n",
    "values = []\n",
    "for key, value in frequency_strong.iteritems():\n",
    "    keys.append(key)\n",
    "    values.append(value)\n",
    "plt.bar(keys, values)\n",
    "plt.title('Bar Plot of strong Balls')\n",
    "plt.show()"
   ]
  },
  {
   "cell_type": "markdown",
   "metadata": {},
   "source": [
    "### The amount of each number came out in the lottery . "
   ]
  },
  {
   "cell_type": "code",
   "execution_count": 28,
   "metadata": {},
   "outputs": [],
   "source": [
    "balls = lotto[['one', 'two', 'three', 'four', 'five','six']].values.flatten()\n",
    "unique, counts = np.unique(balls, return_counts=True)\n",
    "percentages = counts/counts.sum() \n",
    "perc_cumsum = np.cumsum(percentages)"
   ]
  },
  {
   "cell_type": "code",
   "execution_count": 29,
   "metadata": {},
   "outputs": [
    {
     "name": "stdout",
     "output_type": "stream",
     "text": [
      "[[  1 184]\n",
      " [  2 163]\n",
      " [  3 178]\n",
      " [  4 150]\n",
      " [  5 169]\n",
      " [  6 179]\n",
      " [  7 155]\n",
      " [  8 176]\n",
      " [  9 163]\n",
      " [ 10 171]\n",
      " [ 11 186]\n",
      " [ 12 181]\n",
      " [ 13 173]\n",
      " [ 14 141]\n",
      " [ 15 159]\n",
      " [ 16 158]\n",
      " [ 17 171]\n",
      " [ 18 167]\n",
      " [ 19 153]\n",
      " [ 20 178]\n",
      " [ 21 171]\n",
      " [ 22 179]\n",
      " [ 23 161]\n",
      " [ 24 154]\n",
      " [ 25 194]\n",
      " [ 26 188]\n",
      " [ 27 172]\n",
      " [ 28 177]\n",
      " [ 29 187]\n",
      " [ 30 169]\n",
      " [ 31 153]\n",
      " [ 32 159]\n",
      " [ 33 166]\n",
      " [ 34 169]\n",
      " [ 35 174]\n",
      " [ 36 162]\n",
      " [ 37 180]]\n"
     ]
    }
   ],
   "source": [
    "print(np.asarray((unique, counts)).T)"
   ]
  },
  {
   "cell_type": "code",
   "execution_count": 87,
   "metadata": {},
   "outputs": [
    {
     "data": {
      "image/png": "[encoded data removed]",
      "text/plain": [
       "<Figure size 432x288 with 1 Axes>"
      ]
     },
     "metadata": {
      "needs_background": "light"
     },
     "output_type": "display_data"
    }
   ],
   "source": [
    "plt.hist(balls, bins = 37)\n",
    "plt.title('Histogram of Balls')\n",
    "plt.show()"
   ]
  },
  {
   "cell_type": "markdown",
   "metadata": {},
   "source": [
    "## Generate lottery numbers"
   ]
  },
  {
   "cell_type": "code",
   "execution_count": 51,
   "metadata": {},
   "outputs": [],
   "source": [
    "from random import random\n",
    "\n",
    "def lottery_generate (previous_data = lotto):\n",
    "    balls = previous_data[['one', 'two', 'three', 'four', 'five','six']].values.flatten()\n",
    "    \n",
    "    unique, counts = np.unique(balls, return_counts=True)\n",
    "\n",
    "    list_numbers = []\n",
    "    for iteration in range(6):\n",
    "        percentages = counts/counts.sum() \n",
    "        perc_cumsum = np.cumsum(percentages)\n",
    "        # Generate a random number from uniform:\n",
    "        rand_unif = random()\n",
    "        # Finding an index and the number itself from our discrete distribution\n",
    "        if len(np.where(perc_cumsum < rand_unif)[0])>0:\n",
    "            index = np.where(perc_cumsum < rand_unif)[0][-1] +1\n",
    "        else:\n",
    "            index = 0\n",
    "        number = unique[index]\n",
    "        list_numbers.append(number)\n",
    "        # removing the previuous number from counts\n",
    "        counts = np.delete(counts, index)\n",
    "        unique = np.delete(unique, index)\n",
    "    \n",
    "    list_numbers.sort()\n",
    "    \n",
    "    unique, counts = np.unique(lotto.strong.values, return_counts=True)\n",
    "    percentages = counts/counts.sum() \n",
    "    perc_cumsum = np.cumsum(percentages)\n",
    "    # Generate a random number from uniform:\n",
    "    rand_unif = random()\n",
    "    # Finding an index and the number itself from our discrete distribution\n",
    "    if len(np.where(perc_cumsum < rand_unif)[0])>0:\n",
    "        index = np.where(perc_cumsum < rand_unif)[0][-1] +1\n",
    "    else:\n",
    "        index = 0\n",
    "    megaball = unique[index]\n",
    "        \n",
    "    return [list_numbers, megaball]"
   ]
  },
  {
   "cell_type": "code",
   "execution_count": 52,
   "metadata": {},
   "outputs": [
    {
     "name": "stdout",
     "output_type": "stream",
     "text": [
      "[[13, 17, 27, 28, 30, 31], 7]\n",
      "[[1, 17, 20, 26, 33, 37], 3]\n",
      "[[2, 8, 12, 13, 17, 27], 4]\n",
      "[[7, 10, 11, 25, 29, 35], 5]\n",
      "[[9, 11, 15, 16, 23, 34], 5]\n"
     ]
    }
   ],
   "source": [
    "from random import seed\n",
    "seed(1044)\n",
    "for i in range(5):\n",
    "    print(lottery_generate())"
   ]
  },
  {
   "cell_type": "code",
   "execution_count": null,
   "metadata": {},
   "outputs": [],
   "source": []
  }
 ],
 "metadata": {
  "kernelspec": {
   "display_name": "Python 3",
   "language": "python",
   "name": "python3"
  },
  "language_info": {
   "codemirror_mode": {
    "name": "ipython",
    "version": 3
   },
   "file_extension": ".py",
   "mimetype": "text/x-python",
   "name": "python",
   "nbconvert_exporter": "python",
   "pygments_lexer": "ipython3",
   "version": "3.7.6"
  }
 },
 "nbformat": 4,
 "nbformat_minor": 4
}
